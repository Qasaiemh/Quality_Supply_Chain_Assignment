{
  "nbformat": 4,
  "nbformat_minor": 0,
  "metadata": {
    "colab": {
      "provenance": [],
      "authorship_tag": "ABX9TyNg934tkgg+NKp1S06SAYDM",
      "include_colab_link": true
    },
    "kernelspec": {
      "name": "python3",
      "display_name": "Python 3"
    },
    "language_info": {
      "name": "python"
    }
  },
  "cells": [
    {
      "cell_type": "markdown",
      "metadata": {
        "id": "view-in-github",
        "colab_type": "text"
      },
      "source": [
        "<a href=\"https://colab.research.google.com/github/Qasaiemh/Quality_Supply_Chain_Assignment/blob/Q.1.1/Q_1_1.ipynb\" target=\"_parent\"><img src=\"https://colab.research.google.com/assets/colab-badge.svg\" alt=\"Open In Colab\"/></a>"
      ]
    },
    {
      "cell_type": "code",
      "execution_count": 2,
      "metadata": {
        "id": "hv07GmUw1qRT"
      },
      "outputs": [],
      "source": [
        "import pandas as pd\n",
        "import sqlite3\n",
        "\n",
        "# Step 1: Load each sheet of the Excel file into separate Pandas DataFrames\n",
        "excel_file_path = '/content/question_1_2.xlsx'\n",
        "all_tables_data = pd.read_excel(excel_file_path, sheet_name=None)\n",
        "\n",
        "# Step 2: Connect to an SQLite database\n",
        "db_path = 'supply_chain_database.db'\n",
        "conn = sqlite3.connect(db_path)\n",
        "\n",
        "# Step 3: Write each DataFrame to a separate table in the SQLite database\n",
        "for sheet_name, df in all_tables_data.items():\n",
        "    table_name = sheet_name.replace(\" \", \"_\")  # Replace any spaces in sheet names with underscores\n",
        "    df.to_sql(table_name, conn, if_exists='replace', index=False)\n",
        "\n",
        "# Close the connection to the database\n",
        "conn.close()\n"
      ]
    },
    {
      "cell_type": "code",
      "source": [
        "import sqlite3\n",
        "\n",
        "# Connect to the SQLite database\n",
        "conn = sqlite3.connect(db_path)\n",
        "\n",
        "# Create a cursor object to interact with the database\n",
        "cursor = conn.cursor()\n",
        "\n",
        "# Get the list of table names in the database\n",
        "cursor.execute(\"SELECT name FROM sqlite_master WHERE type='table';\")\n",
        "table_names = cursor.fetchall()\n",
        "\n",
        "# Loop through the table names and print them\n",
        "for table in table_names:\n",
        "    print(table[0])\n",
        "\n",
        "# Close the connection to the database\n",
        "conn.close()\n"
      ],
      "metadata": {
        "colab": {
          "base_uri": "https://localhost:8080/"
        },
        "id": "yQDWjw3B3hxP",
        "outputId": "ab55cdad-ef7f-4d2a-fd94-d2bceef9ff4b"
      },
      "execution_count": 3,
      "outputs": [
        {
          "output_type": "stream",
          "name": "stdout",
          "text": [
            "Specifications\n",
            "Production_Sequence\n",
            "Measurements\n"
          ]
        }
      ]
    },
    {
      "cell_type": "code",
      "source": [
        "import sqlite3\n",
        "\n",
        "# Connect to the SQLite database\n",
        "conn = sqlite3.connect(db_path)\n",
        "\n",
        "# Create a cursor object to interact with the database\n",
        "cursor = conn.cursor()\n",
        "\n",
        "# Get the list of table names in the database\n",
        "cursor.execute(\"SELECT name FROM sqlite_master WHERE type='table';\")\n",
        "table_names = cursor.fetchall()\n",
        "\n",
        "# Loop through the table names and print the columns for each table\n",
        "for table in table_names:\n",
        "    table_name = table[0]\n",
        "    print(f\"Table: {table_name}\")\n",
        "\n",
        "    # Get the column names for the current table\n",
        "    cursor.execute(f\"PRAGMA table_info({table_name});\")\n",
        "    columns = cursor.fetchall()\n",
        "\n",
        "    # Print the column names\n",
        "    for column in columns:\n",
        "        print(column[1])\n",
        "\n",
        "    print()  # Print a newline to separate each table\n",
        "\n",
        "# Close the connection to the database\n",
        "conn.close()\n"
      ],
      "metadata": {
        "colab": {
          "base_uri": "https://localhost:8080/"
        },
        "id": "9fo3R39W3oI7",
        "outputId": "542d9c40-76b9-4b06-c914-f118ecd88d89"
      },
      "execution_count": 4,
      "outputs": [
        {
          "output_type": "stream",
          "name": "stdout",
          "text": [
            "Table: Specifications\n",
            "Product Code\n",
            "T_Name\n",
            "LSL\n",
            "USL\n",
            "Target\n",
            "\n",
            "Table: Production_Sequence\n",
            "Order ID\n",
            " Date\n",
            "Product Family\n",
            "Variant\n",
            "\n",
            "Table: Measurements\n",
            "Lot No\n",
            "Unit_No\n",
            "Product Code\n",
            "T_Height\n",
            "T_Weight\n",
            "\n"
          ]
        }
      ]
    },
    {
      "cell_type": "code",
      "source": [
        "# Question – 1 1.Can you find out the mean and standard deviation of product height and weight based\n",
        "# on each product code?"
      ],
      "metadata": {
        "id": "X1bM-rEx3qwT"
      },
      "execution_count": 5,
      "outputs": []
    },
    {
      "cell_type": "code",
      "source": [
        "import sqlite3\n",
        "import pandas as pd\n",
        "\n",
        "# Step 1: Connect to the SQLite database\n",
        "conn = sqlite3.connect(db_path)\n",
        "\n",
        "# Step 2: Query data from each table separately and calculate mean and standard deviation for each table\n",
        "tables = [\"Specifications\", \"Production_Sequence\", \"Measurements\"]\n",
        "dataframes = []\n",
        "\n",
        "for table in tables:\n",
        "    query = f\"SELECT * FROM {table}\"\n",
        "    df = pd.read_sql_query(query, conn)\n",
        "    if 'T_Height' in df.columns and 'T_Weight' in df.columns:\n",
        "        group_df = df.groupby('Product Code').agg({\n",
        "            'T_Height': ['mean', 'std'],\n",
        "            'T_Weight': ['mean', 'std']\n",
        "        }).reset_index()\n",
        "        dataframes.append(group_df)\n",
        "\n",
        "# Step 3: Merge the results into a single DataFrame\n",
        "if dataframes:\n",
        "    result_df = pd.concat(dataframes, ignore_index=True)\n",
        "    print(result_df)\n",
        "else:\n",
        "    print(\"T_Height and T_Weight columns not found in any table.\")\n",
        "\n",
        "# Close the connection to the database\n",
        "conn.close()\n"
      ],
      "metadata": {
        "colab": {
          "base_uri": "https://localhost:8080/"
        },
        "id": "qN3EPEEN3tCN",
        "outputId": "5fceef23-80f5-4b71-96bb-a1667b167cd2"
      },
      "execution_count": 6,
      "outputs": [
        {
          "output_type": "stream",
          "name": "stdout",
          "text": [
            "  Product Code  T_Height            T_Weight           \n",
            "                    mean       std      mean        std\n",
            "0     LIF001_B   8.94075  0.262551  384.9100   0.323316\n",
            "1     LIF001_Y  10.26850  0.852276  382.8250   7.287700\n",
            "2     LIF002_R   9.30775  0.893526  314.7225  17.176708\n",
            "3     LIF002_Y   8.18975  0.452906  523.7950   6.458506\n"
          ]
        }
      ]
    }
  ]
}