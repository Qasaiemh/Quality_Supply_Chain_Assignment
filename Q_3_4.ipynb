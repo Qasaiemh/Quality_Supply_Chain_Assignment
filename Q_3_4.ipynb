{
  "nbformat": 4,
  "nbformat_minor": 0,
  "metadata": {
    "colab": {
      "provenance": [],
      "authorship_tag": "ABX9TyP2DIVGFJyTFwPV3p09aLIj",
      "include_colab_link": true
    },
    "kernelspec": {
      "name": "python3",
      "display_name": "Python 3"
    },
    "language_info": {
      "name": "python"
    }
  },
  "cells": [
    {
      "cell_type": "markdown",
      "metadata": {
        "id": "view-in-github",
        "colab_type": "text"
      },
      "source": [
        "<a href=\"https://colab.research.google.com/github/Qasaiemh/Quality_Supply_Chain_Assignment/blob/Q.3.4/Q_3_4.ipynb\" target=\"_parent\"><img src=\"https://colab.research.google.com/assets/colab-badge.svg\" alt=\"Open In Colab\"/></a>"
      ]
    },
    {
      "cell_type": "code",
      "execution_count": null,
      "metadata": {
        "id": "gTZWplIKOSxx"
      },
      "outputs": [],
      "source": [
        "# Extract and list top 5 variable pairs that show positive correlation (if any) and top 5 variable pairs that show negative correlation (if any)"
      ]
    },
    {
      "cell_type": "code",
      "source": [
        "import pandas as pd\n",
        "\n",
        "# Step 1: Read the CSV file into a DataFrame\n",
        "csv_file_path = '/content/question_3.csv'\n",
        "df_csv = pd.read_csv(csv_file_path)\n",
        "\n",
        "# Step 2: Display the contents of the DataFrame\n",
        "print(df_csv)\n"
      ],
      "metadata": {
        "colab": {
          "base_uri": "https://localhost:8080/"
        },
        "id": "krp28sRjOYs4",
        "outputId": "84c690e1-f27b-4dde-fb6a-1f60bc5c06ee"
      },
      "execution_count": 1,
      "outputs": [
        {
          "output_type": "stream",
          "name": "stdout",
          "text": [
            "      fixed acidity  volatile acidity  citric acid  residual sugar  chlorides  \\\n",
            "0               7.4             0.700         0.00             1.9      0.076   \n",
            "1               7.8             0.880         0.00             2.6      0.098   \n",
            "2               7.8             0.760         0.04             2.3      0.092   \n",
            "3              11.2             0.280         0.56             1.9      0.075   \n",
            "4               7.4             0.700         0.00             1.9      0.076   \n",
            "...             ...               ...          ...             ...        ...   \n",
            "1138            6.3             0.510         0.13             2.3      0.076   \n",
            "1139            6.8             0.620         0.08             1.9      0.068   \n",
            "1140            6.2             0.600         0.08             2.0      0.090   \n",
            "1141            5.9             0.550         0.10             2.2      0.062   \n",
            "1142            5.9             0.645         0.12             2.0      0.075   \n",
            "\n",
            "      free sulfur dioxide  total sulfur dioxide  density    pH  sulphates  \\\n",
            "0                    11.0                  34.0  0.99780  3.51       0.56   \n",
            "1                    25.0                  67.0  0.99680  3.20       0.68   \n",
            "2                    15.0                  54.0  0.99700  3.26       0.65   \n",
            "3                    17.0                  60.0  0.99800  3.16       0.58   \n",
            "4                    11.0                  34.0  0.99780  3.51       0.56   \n",
            "...                   ...                   ...      ...   ...        ...   \n",
            "1138                 29.0                  40.0  0.99574  3.42       0.75   \n",
            "1139                 28.0                  38.0  0.99651  3.42       0.82   \n",
            "1140                 32.0                  44.0  0.99490  3.45       0.58   \n",
            "1141                 39.0                  51.0  0.99512  3.52       0.76   \n",
            "1142                 32.0                  44.0  0.99547  3.57       0.71   \n",
            "\n",
            "      alcohol  quality    Id  \n",
            "0         9.4        5     0  \n",
            "1         9.8        5     1  \n",
            "2         9.8        5     2  \n",
            "3         9.8        6     3  \n",
            "4         9.4        5     4  \n",
            "...       ...      ...   ...  \n",
            "1138     11.0        6  1592  \n",
            "1139      9.5        6  1593  \n",
            "1140     10.5        5  1594  \n",
            "1141     11.2        6  1595  \n",
            "1142     10.2        5  1597  \n",
            "\n",
            "[1143 rows x 13 columns]\n"
          ]
        }
      ]
    },
    {
      "cell_type": "code",
      "source": [
        "import pandas as pd\n",
        "import numpy as np\n",
        "\n",
        "# Read the CSV file\n",
        "df = pd.read_csv(csv_file_path)\n",
        "\n",
        "# Drop the 'ID' column\n",
        "df.drop(columns=['Id'], inplace=True)\n",
        "\n",
        "# Calculate the Pearson's correlation coefficient\n",
        "correlation_matrix = df.corr()\n",
        "\n",
        "# Get the upper triangular part of the correlation matrix to avoid duplicate pairs\n",
        "upper_triangle = correlation_matrix.where(np.triu(np.ones(correlation_matrix.shape), k=1).astype(np.bool))\n",
        "\n",
        "# Find the top 5 positive and negative correlations\n",
        "top_positive_correlations = upper_triangle.unstack().sort_values(ascending=False)[:5]\n",
        "top_negative_correlations = upper_triangle.unstack().sort_values(ascending=True)[:5]\n",
        "\n",
        "# List the top 5 positive correlations\n",
        "print(\"Top 5 variable pairs with positive correlation:\")\n",
        "for pair, correlation in top_positive_correlations.items():\n",
        "    var1, var2 = pair\n",
        "    print(f\"{var1} and {var2}: {correlation:.2f}\")\n",
        "\n",
        "# List the top 5 negative correlations\n",
        "print(\"\\nTop 5 variable pairs with negative correlation:\")\n",
        "for pair, correlation in top_negative_correlations.items():\n",
        "    var1, var2 = pair\n",
        "    print(f\"{var1} and {var2}: {correlation:.2f}\")\n"
      ],
      "metadata": {
        "colab": {
          "base_uri": "https://localhost:8080/"
        },
        "id": "USmYsLbLOhE1",
        "outputId": "03eacebc-3f8a-4307-f071-612268422f33"
      },
      "execution_count": 2,
      "outputs": [
        {
          "output_type": "stream",
          "name": "stdout",
          "text": [
            "Top 5 variable pairs with positive correlation:\n",
            "density and fixed acidity: 0.68\n",
            "citric acid and fixed acidity: 0.67\n",
            "total sulfur dioxide and free sulfur dioxide: 0.66\n",
            "quality and alcohol: 0.48\n",
            "density and residual sugar: 0.38\n",
            "\n",
            "Top 5 variable pairs with negative correlation:\n",
            "pH and fixed acidity: -0.69\n",
            "pH and citric acid: -0.55\n",
            "citric acid and volatile acidity: -0.54\n",
            "alcohol and density: -0.49\n",
            "quality and volatile acidity: -0.41\n"
          ]
        },
        {
          "output_type": "stream",
          "name": "stderr",
          "text": [
            "<ipython-input-2-ff9df55f05b8>:14: DeprecationWarning: `np.bool` is a deprecated alias for the builtin `bool`. To silence this warning, use `bool` by itself. Doing this will not modify any behavior and is safe. If you specifically wanted the numpy scalar type, use `np.bool_` here.\n",
            "Deprecated in NumPy 1.20; for more details and guidance: https://numpy.org/devdocs/release/1.20.0-notes.html#deprecations\n",
            "  upper_triangle = correlation_matrix.where(np.triu(np.ones(correlation_matrix.shape), k=1).astype(np.bool))\n"
          ]
        }
      ]
    }
  ]
}